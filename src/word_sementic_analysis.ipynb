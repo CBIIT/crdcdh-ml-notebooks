{
 "cells": [
  {
   "attachments": {},
   "cell_type": "markdown",
   "metadata": {},
   "source": [
    "# Word2Vec Word Representations with BlazingText\n"
   ]
  },
  {
   "attachments": {},
   "cell_type": "markdown",
   "metadata": {},
   "source": [
    "\n",
    "Word2Vec is a popular algorithm used for generating dense vector representations of words in large corpora using unsupervised learning. The resulting vectors have been shown to capture semantic relationships between the corresponding words and are used extensively for many downstream natural language processing (NLP) tasks like sentiment analysis, named entity recognition and machine translation.  "
   ]
  },
  {
   "attachments": {},
   "cell_type": "markdown",
   "metadata": {},
   "source": [
    "SageMaker BlazingText which provides efficient implementations of Word2Vec on\n",
    "\n",
    "- single CPU instance\n",
    "- single instance with multiple GPUs - P2 or P3 instances\n",
    "- multiple CPU instances (Distributed training)"
   ]
  },
  {
   "attachments": {},
   "cell_type": "markdown",
   "metadata": {},
   "source": [
    "In this notebook, BlazingText is used for distributed training of word2vec using multiple CPU instances."
   ]
  },
  {
   "attachments": {},
   "cell_type": "markdown",
   "metadata": {},
   "source": [
    "## Setup\n",
    "\n",
    "Let's start by specifying:\n",
    "- The S3 buckets and prefixes that you want to use for saving model data and where training data is located. These should be within the same region as the Notebook Instance, training, and hosting. If you don't specify a bucket, SageMaker SDK will create a default bucket following a pre-defined naming convention in the same region. \n",
    "- The IAM role ARN used to give SageMaker access to your data. It can be fetched using the **get_execution_role** method from sagemaker python SDK."
   ]
  },
  {
   "cell_type": "code",
   "execution_count": 1,
   "metadata": {
    "isConfigCell": true
   },
   "outputs": [
    {
     "name": "stdout",
     "output_type": "stream",
     "text": [
      "sagemaker.config INFO - Not applying SDK defaults from location: /opt/homebrew/share/sagemaker/config.yaml\n",
      "sagemaker.config INFO - Not applying SDK defaults from location: /Users/gup2/Library/Application Support/sagemaker/config.yaml\n",
      "src dir:/Users/gup2/workspace/vscode/crdcdh/crdcdh-ml-notebooks/src\n",
      "root dir:/Users/gup2/workspace/vscode/crdcdh/crdcdh-ml-notebooks\n",
      "sagemaker.config INFO - Fetched defaults config from location: /Users/gup2/workspace/vscode/crdcdh/crdcdh-ml-notebooks/configs/sagemaker/config.yaml\n",
      "arn:aws:iam::420434175168:role/service-role/AmazonSageMaker-ExecutionRole-20240524T161395\n"
     ]
    }
   ],
   "source": [
    "import sagemaker\n",
    "from sagemaker import get_execution_role\n",
    "import boto3\n",
    "import json\n",
    "from common.sagemaker_utils import get_sagemaker_session\n",
    "import common.config as config\n",
    "\n",
    "# sess = sagemaker.Session()\n",
    "sess = get_sagemaker_session()\n",
    "# role = get_execution_role()\n",
    "role = config.SAGEMAKER_EXECUTE_ROLE\n",
    "print(\n",
    "    role\n",
    ")  # This is the role that SageMaker would use to leverage AWS resources (S3, CloudWatch) on your behalf\n",
    "\n",
    "region = boto3.Session().region_name\n",
    "\n",
    "output_bucket = sess.default_bucket()  # Replace with your own bucket name if needed\n",
    "# print(output_bucket)\n",
    "output_prefix = \"crdcdh-ml/sagemaker/blazingtext-text8\"  # Replace with the prefix under which you want to store the data if needed\n",
    "\n",
    "data_bucket = (\n",
    "    f\"sagemaker-example-files-prod-{region}\"  # Replace with the bucket where data is located\n",
    ")\n",
    "data_prefix = \"datasets/text/text8/text8\""
   ]
  },
  {
   "attachments": {},
   "cell_type": "markdown",
   "metadata": {},
   "source": [
    "### Data Ingestion\n",
    "\n",
    "BlazingText expects a single preprocessed text file with space separated tokens and each line of the file should contain a single sentence. In this example, let us train the vectors on [text8](http://mattmahoney.net/dc/textdata.html) dataset (100 MB), which is a small (already preprocessed) version of Wikipedia dump. Data is already downloaded from [matt mahoney's website](http://mattmahoney.net/dc/text8.zip), uncompressed and stored in `data_bucket`. "
   ]
  },
  {
   "cell_type": "code",
   "execution_count": 2,
   "metadata": {},
   "outputs": [],
   "source": [
    "s3_client = boto3.client(\"s3\")\n",
    "s3_client.download_file(data_bucket, data_prefix, \"text8\")\n",
    "s3_client.upload_file(\"text8\", output_bucket, output_prefix + \"/train\")\n",
    "\n",
    "s3_train_data = f\"s3://{output_bucket}/{output_prefix}/train\""
   ]
  },
  {
   "attachments": {},
   "cell_type": "markdown",
   "metadata": {},
   "source": [
    "Next we need to setup an output location at S3, where the model artifact will be dumped. These artifacts are also the output of the algorithm's training job."
   ]
  },
  {
   "cell_type": "code",
   "execution_count": 3,
   "metadata": {},
   "outputs": [],
   "source": [
    "s3_output_location = f\"s3://{output_bucket}/{output_prefix}/output\""
   ]
  },
  {
   "attachments": {},
   "cell_type": "markdown",
   "metadata": {},
   "source": [
    "## Training Setup\n",
    "Now that we are done with all the setup that is needed, we are ready to train our object detector. To begin, let us create a ``sageMaker.estimator.Estimator`` object. This estimator will launch the training job."
   ]
  },
  {
   "cell_type": "code",
   "execution_count": 4,
   "metadata": {},
   "outputs": [],
   "source": [
    "region_name = boto3.Session().region_name"
   ]
  },
  {
   "cell_type": "code",
   "execution_count": 5,
   "metadata": {},
   "outputs": [
    {
     "name": "stderr",
     "output_type": "stream",
     "text": [
      "The method get_image_uri has been renamed in sagemaker>=2.\n",
      "See: https://sagemaker.readthedocs.io/en/stable/v2.html for details.\n",
      "Defaulting to the only supported framework/algorithm version: 1. Ignoring framework/algorithm version: latest.\n"
     ]
    },
    {
     "name": "stdout",
     "output_type": "stream",
     "text": [
      "Using SageMaker BlazingText container: 811284229777.dkr.ecr.us-east-1.amazonaws.com/blazingtext:1 (us-east-1)\n"
     ]
    }
   ],
   "source": [
    "container = sagemaker.amazon.amazon_estimator.get_image_uri(region_name, \"blazingtext\", \"latest\")\n",
    "print(f\"Using SageMaker BlazingText container: {container} ({region_name})\")"
   ]
  },
  {
   "attachments": {},
   "cell_type": "markdown",
   "metadata": {},
   "source": [
    "## Training the BlazingText model for generating word vectors"
   ]
  },
  {
   "attachments": {},
   "cell_type": "markdown",
   "metadata": {},
   "source": [
    "Similar to the original implementation of [Word2Vec](https://arxiv.org/pdf/1301.3781.pdf), SageMaker BlazingText provides an efficient implementation of the continuous bag-of-words (CBOW) and skip-gram architectures using Negative Sampling, on CPUs and additionally on GPU[s]. The GPU implementation uses highly optimized CUDA kernels. To learn more, please refer to [*BlazingText: Scaling and Accelerating Word2Vec using Multiple GPUs*](https://dl.acm.org/citation.cfm?doid=3146347.3146354). BlazingText also supports learning of subword embeddings with CBOW and skip-gram modes. This enables BlazingText to generate vectors for out-of-vocabulary (OOV) words, as demonstrated in this [notebook](https://github.com/awslabs/amazon-sagemaker-examples/blob/master/introduction_to_amazon_algorithms/blazingtext_word2vec_subwords_text8/blazingtext_word2vec_subwords_text8.ipynb).\n",
    "\n",
    "\n"
   ]
  },
  {
   "attachments": {},
   "cell_type": "markdown",
   "metadata": {},
   "source": [
    "Besides skip-gram and CBOW, SageMaker BlazingText also supports the \"Batch Skipgram\" mode, which uses efficient mini-batching and matrix-matrix operations ([BLAS Level 3 routines](https://software.intel.com/en-us/mkl-developer-reference-fortran-blas-level-3-routines)). This mode enables distributed word2vec training across multiple CPU nodes, allowing almost linear scale up of word2vec computation to process hundreds of millions of words per second. Please refer to [*Parallelizing Word2Vec in Shared and Distributed Memory*](https://arxiv.org/pdf/1604.04661.pdf) to learn more."
   ]
  },
  {
   "attachments": {},
   "cell_type": "markdown",
   "metadata": {},
   "source": [
    "BlazingText also supports a *supervised* mode for text classification. It extends the FastText text classifier to leverage GPU acceleration using custom CUDA kernels. The model can be trained on more than a billion words in a couple of minutes using a multi-core CPU or a GPU, while achieving performance on par with the state-of-the-art deep learning text classification algorithms. For more information, please refer to [algorithm documentation](https://docs.aws.amazon.com/sagemaker/latest/dg/blazingtext.html) or [the text classification notebook](https://github.com/awslabs/amazon-sagemaker-examples/blob/master/introduction_to_amazon_algorithms/blazingtext_text_classification_dbpedia/blazingtext_text_classification_dbpedia.ipynb)."
   ]
  },
  {
   "attachments": {},
   "cell_type": "markdown",
   "metadata": {},
   "source": [
    "Please refer to [algorithm documentation](https://docs.aws.amazon.com/sagemaker/latest/dg/blazingtext_hyperparameters.html) for the complete list of hyperparameters."
   ]
  },
  {
   "cell_type": "code",
   "execution_count": 7,
   "metadata": {},
   "outputs": [],
   "source": [
    "bt_model.set_hyperparameters(\n",
    "    mode=\"batch_skipgram\",\n",
    "    epochs=5,\n",
    "    min_count=5,\n",
    "    sampling_threshold=0.0001,\n",
    "    learning_rate=0.05,\n",
    "    window_size=5,\n",
    "    vector_dim=100,\n",
    "    negative_samples=5,\n",
    "    batch_size=11,  #  = (2*window_size + 1) (Preferred. Used only if mode is batch_skipgram)\n",
    "    evaluation=True,  # Perform similarity evaluation on WS-353 dataset at the end of training\n",
    "    subwords=False,\n",
    ")  # Subword embedding learning is not supported by batch_skipgram"
   ]
  },
  {
   "attachments": {},
   "cell_type": "markdown",
   "metadata": {},
   "source": [
    "Now that the hyper-parameters are setup, let us prepare the handshake between our data channels and the algorithm. To do this, we need to create the `sagemaker.session.s3_input` objects from our data channels. These objects are then put in a simple dictionary, which the algorithm consumes."
   ]
  },
  {
   "cell_type": "code",
   "execution_count": 8,
   "metadata": {},
   "outputs": [
    {
     "name": "stderr",
     "output_type": "stream",
     "text": [
      "The class sagemaker.session.s3_input has been renamed in sagemaker>=2.\n",
      "See: https://sagemaker.readthedocs.io/en/stable/v2.html for details.\n"
     ]
    }
   ],
   "source": [
    "train_data = sagemaker.session.s3_input(\n",
    "    s3_train_data,\n",
    "    distribution=\"FullyReplicated\",\n",
    "    content_type=\"text/plain\",\n",
    "    s3_data_type=\"S3Prefix\",\n",
    ")\n",
    "data_channels = {\"train\": train_data}"
   ]
  },
  {
   "attachments": {},
   "cell_type": "markdown",
   "metadata": {},
   "source": [
    "We have our `Estimator` object, we have set the hyper-parameters for this object and we have our data channels linked with the algorithm. The only  remaining thing to do is to train the algorithm. The following command will train the algorithm. Training the algorithm involves a few steps. Firstly, the instance that we requested while creating the `Estimator` classes is provisioned and is setup with the appropriate libraries. Then, the data from our channels are downloaded into the instance. Once this is done, the training job begins. The provisioning and data downloading will take some time, depending on the size of the data. Therefore it might be a few minutes before we start getting training logs for our training jobs. The data logs will also print out `Spearman's Rho` on some pre-selected validation datasets after the training job has executed. This metric is a proxy for the quality of the algorithm. \n",
    "\n",
    "Once the job has finished a \"Job complete\" message will be printed. The trained model can be found in the S3 bucket that was setup as `output_path` in the estimator."
   ]
  },
  {
   "cell_type": "code",
   "execution_count": 9,
   "metadata": {},
   "outputs": [
    {
     "name": "stderr",
     "output_type": "stream",
     "text": [
      "INFO:sagemaker:Creating training-job with name: blazingtext-2024-06-03-14-08-23-768\n"
     ]
    },
    {
     "name": "stdout",
     "output_type": "stream",
     "text": [
      "2024-06-03 14:08:24 Starting - Starting the training job...\n",
      "2024-06-03 14:08:46 Starting - Preparing the instances for training...\n",
      "2024-06-03 14:09:17 Downloading - Downloading input data...\n",
      "2024-06-03 14:09:43 Training - Training image download completed. Training in progress..Arguments: train\n",
      "Found 10.2.113.106 for host algo-1\n",
      "Found 10.2.67.21 for host algo-2\n",
      "Arguments: train\n",
      "Found 10.2.113.106 for host algo-1\n",
      "Found 10.2.67.21 for host algo-2\n",
      "[06/03/2024 14:10:03 WARNING 140269557798720] Loggers have already been setup.\n",
      "[06/03/2024 14:10:03 WARNING 140269557798720] Loggers have already been setup.\n",
      "/opt/amazon/python3.8/lib/python3.8/subprocess.py:848: RuntimeWarning: line buffering (buffering=1) isn't supported in binary mode, the default buffer size will be used\n",
      "  self.stdout = io.open(c2pread, 'rb', bufsize)\n",
      "[06/03/2024 14:10:03 INFO 140269557798720] nvidia-smi took: 0.025166034698486328 secs to identify 0 gpus\n",
      "[06/03/2024 14:10:03 INFO 140269557798720] Running distributed CPU BlazingText training using batch_skipgram on 2 hosts.\n",
      "[06/03/2024 14:10:03 INFO 140269557798720] Number of hosts: 2, master IP address: 10.2.113.106, host IP address: 10.2.67.21.\n",
      "[06/03/2024 14:10:03 WARNING 140558374418240] Loggers have already been setup.\n",
      "[06/03/2024 14:10:03 WARNING 140558374418240] Loggers have already been setup.\n",
      "/opt/amazon/python3.8/lib/python3.8/subprocess.py:848: RuntimeWarning: line buffering (buffering=1) isn't supported in binary mode, the default buffer size will be used\n",
      "  self.stdout = io.open(c2pread, 'rb', bufsize)\n",
      "[06/03/2024 14:10:03 INFO 140558374418240] nvidia-smi took: 0.02520012855529785 secs to identify 0 gpus\n",
      "[06/03/2024 14:10:03 INFO 140558374418240] Running distributed CPU BlazingText training using batch_skipgram on 2 hosts.\n",
      "[06/03/2024 14:10:03 INFO 140558374418240] Number of hosts: 2, master IP address: 10.2.113.106, host IP address: 10.2.113.106.\n",
      "[06/03/2024 14:10:03 INFO 140558374418240] HTTP server started....\n",
      "Number of CPU sockets found in instance is  1\n",
      "[06/03/2024 14:10:03 INFO 140558374418240] Processing /opt/ml/input/data/train/train . File size: 95.367431640625 MB\n",
      "Warning: Permanently added 'algo-2,10.2.67.21' (RSA) to the list of known hosts.#015\n",
      "processor name: algo-1, number of processors: 2, rank: 0\n",
      "processor name: algo-2, number of processors: 2, rank: 1\n",
      "Read 10M words\n",
      "Read 17M words\n",
      "Number of words:  71290\n",
      "Alpha: 0.0489  Progress: 2.13%  Million Words/sec: 5.35\n",
      "Alpha: 0.0463  Progress: 7.38%  Million Words/sec: 5.47\n",
      "Alpha: 0.0437  Progress: 12.62%  Million Words/sec: 5.44\n",
      "Alpha: 0.0411  Progress: 17.88%  Million Words/sec: 5.48\n",
      "Alpha: 0.0385  Progress: 23.15%  Million Words/sec: 5.54\n",
      "Alpha: 0.0359  Progress: 28.43%  Million Words/sec: 5.43\n",
      "Alpha: 0.0333  Progress: 33.71%  Million Words/sec: 5.46\n",
      "Alpha: 0.0307  Progress: 38.96%  Million Words/sec: 5.44\n",
      "Alpha: 0.0281  Progress: 44.26%  Million Words/sec: 5.47\n",
      "Alpha: 0.0255  Progress: 49.56%  Million Words/sec: 5.33\n",
      "Alpha: 0.0229  Progress: 54.88%  Million Words/sec: 5.37\n",
      "Alpha: 0.0202  Progress: 60.19%  Million Words/sec: 5.38\n",
      "Alpha: 0.0176  Progress: 65.46%  Million Words/sec: 5.40\n",
      "Alpha: 0.0150  Progress: 70.64%  Million Words/sec: 5.41\n",
      "Alpha: 0.0124  Progress: 75.88%  Million Words/sec: 5.38\n",
      "Alpha: 0.0098  Progress: 81.16%  Million Words/sec: 5.40\n",
      "Alpha: 0.0072  Progress: 86.44%  Million Words/sec: 5.40\n",
      "Alpha: 0.0045  Progress: 91.71%  Million Words/sec: 5.41\n",
      "Alpha: 0.0019  Progress: 96.94%  Million Words/sec: 5.33\n",
      "Alpha: 0.0000  Progress: 100.00%  Million Words/sec: 5.20\n",
      "Training finished!\n",
      "Average throughput in Million words/sec: 5.20\n",
      "Total training time in seconds: 16.35\n",
      "Evaluating word embeddings....\n",
      "Vectors read from: /opt/ml/model/vectors.txt \n",
      "{\n",
      "    \"EN-WS-353-ALL.txt\": {\n",
      "        \"not_found\": 2,\n",
      "        \"spearmans_rho\": 0.6956536099722538,\n",
      "        \"total_pairs\": 353\n",
      "    },\n",
      "    \"EN-WS-353-REL.txt\": {\n",
      "        \"not_found\": 1,\n",
      "        \"spearmans_rho\": 0.6598566344200716,\n",
      "        \"total_pairs\": 252\n",
      "    },\n",
      "    \"EN-WS-353-SIM.txt\": {\n",
      "        \"not_found\": 1,\n",
      "        \"spearmans_rho\": 0.7224248658734129,\n",
      "        \"total_pairs\": 203\n",
      "    },\n",
      "    \"mean_rho\": 0.692645036755246\n",
      "}\n",
      "[06/03/2024 14:10:32 INFO 140558374418240] #mean_rho: 0.692645036755246\n",
      "[06/03/2024 14:10:33 INFO 140269557798720] Master host is not alive. Training might have finished. Shutting down.... Check the logs for algo-1 machine.\n",
      "\n",
      "2024-06-03 14:10:52 Uploading - Uploading generated training model\n",
      "2024-06-03 14:10:52 Completed - Training job completed\n",
      "Training seconds: 188\n",
      "Billable seconds: 188\n"
     ]
    }
   ],
   "source": [
    "bt_model.fit(inputs=data_channels, logs=True)"
   ]
  },
  {
   "attachments": {},
   "cell_type": "markdown",
   "metadata": {},
   "source": [
    "## Hosting / Inference\n",
    "Once the training is done, we can deploy the trained model as an Amazon SageMaker real-time hosted endpoint. This will allow us to make predictions (or inference) from the model. Note that we don't have to host on the same type of instance that we used to train. Because instance endpoints will be up and running for long, it's advisable to choose a cheaper instance for inference."
   ]
  },
  {
   "cell_type": "code",
   "execution_count": 25,
   "metadata": {},
   "outputs": [
    {
     "name": "stderr",
     "output_type": "stream",
     "text": [
      "INFO:sagemaker:Creating model with name: blazingtext-2024-06-03-15-01-21-353\n",
      "INFO:sagemaker:Creating endpoint-config with name myTest-blazingtext\n",
      "INFO:sagemaker:Creating endpoint with name myTest-blazingtext\n"
     ]
    },
    {
     "name": "stdout",
     "output_type": "stream",
     "text": [
      "--------------!"
     ]
    }
   ],
   "source": [
    "# bt_endpoint = bt_model.deploy(endpoint_name=\"crdcdh-ml-blazingtext-endpoint\", initial_instance_count=1, instance_type=\"ml.m4.xlarge\")\n",
    "endpoint_name = f\"{config.SOLUTION_PREFIX}-blazingtext\"\n",
    "bt_endpoint = bt_model.deploy(\n",
    "    endpoint_name=endpoint_name, \n",
    "    initial_instance_count=1, \n",
    "    instance_type=config.HOSTING_INSTANCE_TYPE\n",
    ")"
   ]
  },
  {
   "attachments": {},
   "cell_type": "markdown",
   "metadata": {},
   "source": [
    "### Getting vector representations for words"
   ]
  },
  {
   "attachments": {},
   "cell_type": "markdown",
   "metadata": {},
   "source": [
    "#### Use JSON format for inference\n",
    "The payload should contain a list of words with the key as \"**instances**\". BlazingText supports content-type `application/json`."
   ]
  },
  {
   "cell_type": "code",
   "execution_count": 26,
   "metadata": {},
   "outputs": [
    {
     "name": "stdout",
     "output_type": "stream",
     "text": [
      "[{'vector': [0.09279149025678635, 0.10469230264425278, -0.13925276696681976, -0.15704040229320526, -0.025479618459939957, 0.084469735622406, -0.061811547726392746, 0.022293802350759506, -0.05578364059329033, 0.23866279423236847, -0.2328888177871704, 0.02777271531522274, 0.175273135304451, -0.06978718191385269, 0.201666921377182, 0.02802002988755703, -0.1152154803276062, 0.060329195111989975, 0.06348877400159836, -0.0008739250479266047, -0.0649227723479271, 0.10201020538806915, -0.16035965085029602, -0.05006956309080124, 0.005279920995235443, -0.06573910266160965, 0.08905783295631409, 0.19123686850070953, -0.007273114286363125, 0.22685614228248596, -0.02863595075905323, 0.1040583923459053, 0.04547508433461189, -0.09383406490087509, -0.1913522481918335, 0.018297309055924416, 0.07569026947021484, -9.819575643632561e-05, -0.11348896473646164, 0.1408012956380844, -0.009663487784564495, -0.06717414408922195, -0.22892062366008759, 0.02937154285609722, 0.3404488265514374, -0.130887970328331, 0.12523943185806274, -0.04592686891555786, 0.09422680735588074, -0.14464643597602844, -0.19998884201049805, -0.12232626229524612, -0.19336238503456116, 0.005950017366558313, 0.0018337256042286754, 0.02025095373392105, -0.1226520761847496, 0.2932558059692383, -0.2774815559387207, 0.10846342891454697, 0.03240767866373062, 0.13224443793296814, 0.219050794839859, 0.25479844212532043, 0.06316516548395157, 0.16143350303173065, 0.16934053599834442, 0.02233419008553028, -0.03504999727010727, -0.1582672894001007, 0.0742313414812088, 0.06533323228359222, 0.07883945107460022, -0.0466972179710865, 0.13170480728149414, -0.10402148962020874, 0.06019958481192589, -0.03738642856478691, 0.173992320895195, -0.12663273513317108, 0.2168092280626297, -0.04074137285351753, 0.11331869661808014, 0.07912126183509827, 0.13225801289081573, -0.05202111974358559, 0.16720235347747803, 0.31411105394363403, -0.30825021862983704, 0.05618428438901901, -0.14458440244197845, -0.060668427497148514, 0.2719235420227051, -0.1741495430469513, -0.11784902215003967, -0.14210017025470734, 0.19872726500034332, 0.263901948928833, 0.20043161511421204, -0.06830749660730362], 'word': 'awesome'}, {'vector': [0.1786491870880127, -0.0029644472524523735, -0.29917436838150024, -0.348610520362854, -0.32286152243614197, 0.12035419791936874, -0.29804298281669617, -0.17271645367145538, 0.07961009442806244, 0.37012580037117004, -0.062343042343854904, -0.018111474812030792, 0.18169736862182617, 0.22646749019622803, 0.2711595892906189, 0.05677276849746704, -0.22076334059238434, 0.0787259042263031, -0.164616659283638, 0.15331849455833435, 0.09966158121824265, -0.09025819599628448, -0.2368653416633606, -0.25030258297920227, -0.25645774602890015, 0.09076879918575287, 0.28433743119239807, 0.31641408801078796, -0.2003740668296814, 0.05118764564394951, 0.03537018969655037, 0.18683214485645294, 0.09381376206874847, -0.19788026809692383, -0.44451767206192017, 0.1917470097541809, 0.18570135533809662, -0.12217052280902863, -0.3837049901485443, 0.1940130591392517, -0.09358146786689758, 0.07435882091522217, -0.4927811622619629, 0.2072930485010147, 0.3414038419723511, -0.22250263392925262, 0.056813836097717285, 0.060578275471925735, 0.04902120679616928, -0.009898857213556767, -0.48514413833618164, 0.004660624545067549, -0.1903795301914215, 0.09297992289066315, -0.1292894184589386, 0.008454952389001846, -0.17213717103004456, 0.30373337864875793, -0.2190873622894287, 0.08826012164354324, -0.008116821758449078, 0.2863999307155609, 0.3464861214160919, 0.26058340072631836, 0.019441602751612663, 0.07190477848052979, 0.28710100054740906, -0.05061112344264984, -0.16259180009365082, -0.25763171911239624, 0.3206586241722107, -0.054662853479385376, 0.06824533641338348, -0.005684165749698877, 0.09008119255304337, -0.17576414346694946, 0.37398070096969604, -0.0011387834092602134, 0.07967302948236465, 0.08273079991340637, 0.3230265974998474, 0.0049940431490540504, -0.007239122875034809, -0.13668350875377655, 0.13755133748054504, 0.1614042967557907, 0.3358628451824188, 0.2802727520465851, -0.5377331376075745, -0.11690699309110641, 0.0763377994298935, 0.039529744535684586, 0.3964915871620178, 0.0032671531662344933, -0.39636287093162537, -0.23289939761161804, 0.17206202447414398, 0.06099846214056015, 0.2608965337276459, -0.06208166107535362], 'word': 'blazing'}]\n"
     ]
    }
   ],
   "source": [
    "words = [\"awesome\", \"blazing\"]\n",
    "\n",
    "payload = {\"instances\": words}\n",
    "\n",
    "response = bt_endpoint.predict(\n",
    "    json.dumps(payload),\n",
    "    initial_args={\"ContentType\": \"application/json\", \"Accept\": \"application/json\"},\n",
    ")\n",
    "\n",
    "vecs = json.loads(response)\n",
    "print(vecs)"
   ]
  },
  {
   "attachments": {},
   "cell_type": "markdown",
   "metadata": {},
   "source": [
    "As expected, we get an n-dimensional vector (where n is vector_dim as specified in hyperparameters) for each of the words. If the word is not there in the training dataset, the model will return a vector of zeros."
   ]
  },
  {
   "attachments": {},
   "cell_type": "markdown",
   "metadata": {},
   "source": [
    "### Evaluation"
   ]
  },
  {
   "attachments": {},
   "cell_type": "markdown",
   "metadata": {},
   "source": [
    "Let us now download the word vectors learned by our model and visualize them using a [t-SNE](https://en.wikipedia.org/wiki/T-distributed_stochastic_neighbor_embedding) plot."
   ]
  },
  {
   "cell_type": "code",
   "execution_count": null,
   "metadata": {},
   "outputs": [],
   "source": [
    "s3 = boto3.resource(\"s3\")\n",
    "\n",
    "key = bt_model.model_data[bt_model.model_data.find(\"/\", 5) + 1 :]\n",
    "s3.Bucket(output_bucket).download_file(key, \"../output/model.tar.gz\")"
   ]
  },
  {
   "attachments": {},
   "cell_type": "markdown",
   "metadata": {},
   "source": [
    "Uncompress `model.tar.gz` to get `vectors.txt`"
   ]
  },
  {
   "cell_type": "code",
   "execution_count": null,
   "metadata": {},
   "outputs": [],
   "source": [
    "!tar -xvzf ../output/model.tar.gz"
   ]
  },
  {
   "attachments": {},
   "cell_type": "markdown",
   "metadata": {},
   "source": [
    "If you set \"evaluation\" as \"true\" in the hyperparameters, then \"eval.json\" will be there in the model artifacts.\n",
    "\n",
    "The quality of trained model is evaluated on word similarity task. We use [WS-353](http://alfonseca.org/eng/research/wordsim353.html), which is one of the most popular test datasets used for this purpose. It contains word pairs together with human-assigned similarity judgments.\n",
    "\n",
    "The word representations are evaluated by ranking the pairs according to their cosine similarities, and measuring the Spearmans rank correlation coefficient with the human judgments.\n",
    "\n",
    "Let's look at the evaluation scores which are there in eval.json. For embeddings trained on the text8 dataset, scores above 0.65 are pretty good."
   ]
  },
  {
   "cell_type": "code",
   "execution_count": null,
   "metadata": {},
   "outputs": [],
   "source": [
    "!cat eval.json"
   ]
  },
  {
   "attachments": {},
   "cell_type": "markdown",
   "metadata": {},
   "source": [
    "Now, let us do a 2D visualization of the word vectors"
   ]
  },
  {
   "cell_type": "code",
   "execution_count": 57,
   "metadata": {},
   "outputs": [],
   "source": [
    "import numpy as np\n",
    "from sklearn.preprocessing import normalize\n",
    "\n",
    "# Read the 400 most frequent word vectors. The vectors in the file are in descending order of frequency.\n",
    "num_points = 400\n",
    "\n",
    "first_line = True\n",
    "index_to_word = []\n",
    "with open(\"../output/vectors.txt\", \"r\") as f:\n",
    "    for line_num, line in enumerate(f):\n",
    "        if first_line:\n",
    "            dim = int(line.strip().split()[1])\n",
    "            word_vecs = np.zeros((num_points, dim), dtype=float)\n",
    "            first_line = False\n",
    "            continue\n",
    "        line = line.strip()\n",
    "        word = line.split()[0]\n",
    "        vec = word_vecs[line_num - 1]\n",
    "        for index, vec_val in enumerate(line.split()[1:]):\n",
    "            vec[index] = float(vec_val)\n",
    "        index_to_word.append(word)\n",
    "        if line_num >= num_points:\n",
    "            break\n",
    "word_vecs = normalize(word_vecs, copy=False, return_norm=False)\n",
    "\n",
    "# test query result\n",
    "word_vecs = normalize([item['vector'] for item in vecs], copy=False, return_norm=False)\n",
    "index_to_word = [item['word'] for item in vecs]\n",
    "# print(word_vecs)"
   ]
  },
  {
   "cell_type": "code",
   "execution_count": 58,
   "metadata": {},
   "outputs": [
    {
     "name": "stdout",
     "output_type": "stream",
     "text": [
      "['awesome', 'blazing']\n"
     ]
    },
    {
     "name": "stderr",
     "output_type": "stream",
     "text": [
      "/opt/homebrew/lib/python3.11/site-packages/sklearn/manifold/_t_sne.py:1162: FutureWarning: 'n_iter' was renamed to 'max_iter' in version 1.5 and will be removed in 1.7.\n",
      "  warnings.warn(\n"
     ]
    }
   ],
   "source": [
    "from sklearn.manifold import TSNE\n",
    "\n",
    "# tsne = TSNE(perplexity=40, n_components=2, init=\"pca\", n_iter=10000)\n",
    "tsne = TSNE(perplexity=1, n_components=2, init=\"pca\", n_iter=10000)\n",
    "two_d_embeddings = tsne.fit_transform(word_vecs[:num_points])\n",
    "labels = index_to_word[:num_points]\n",
    "print(labels)"
   ]
  },
  {
   "cell_type": "code",
   "execution_count": 59,
   "metadata": {},
   "outputs": [
    {
     "data": {
      "image/png": "[encoded data removed]",
      "text/plain": [
       "<Figure size 2000x2000 with 1 Axes>"
      ]
     },
     "metadata": {},
     "output_type": "display_data"
    }
   ],
   "source": [
    "from matplotlib import pylab\n",
    "\n",
    "%matplotlib inline\n",
    "\n",
    "\n",
    "def plot(embeddings, labels):\n",
    "    pylab.figure(figsize=(20, 20))\n",
    "    for i, label in enumerate(labels):\n",
    "        x, y = embeddings[i, :]\n",
    "        pylab.scatter(x, y)\n",
    "        pylab.annotate(\n",
    "            label, xy=(x, y), xytext=(5, 2), textcoords=\"offset points\", ha=\"right\", va=\"bottom\"\n",
    "        )\n",
    "    pylab.show()\n",
    "\n",
    "\n",
    "plot(two_d_embeddings, labels)"
   ]
  },
  {
   "attachments": {},
   "cell_type": "markdown",
   "metadata": {},
   "source": [
    "Running the code above might generate a plot like the one below. t-SNE and Word2Vec are stochastic, so although when you run the code the plot won’t look exactly like this, you can still see clusters of similar words such as below where 'british', 'american', 'french', 'english' are near the bottom-left, and 'military', 'army' and 'forces' are all together near the bottom."
   ]
  },
  {
   "attachments": {},
   "cell_type": "markdown",
   "metadata": {},
   "source": [
    "![tsne plot of embeddings](../images/tsne.png)"
   ]
  },
  {
   "attachments": {},
   "cell_type": "markdown",
   "metadata": {},
   "source": [
    "### Stop / Close the Endpoint (Optional)\n",
    "Finally, we should delete the endpoint before we close the notebook."
   ]
  },
  {
   "cell_type": "code",
   "execution_count": 61,
   "metadata": {},
   "outputs": [
    {
     "name": "stdout",
     "output_type": "stream",
     "text": [
      "An error occurred (ValidationException) when calling the DeleteEndpoint operation: Could not find endpoint \"myTest-blazingtext\".\n"
     ]
    }
   ],
   "source": [
    "# # Delete the SageMaker endpoint and the attached resources\n",
    "from botocore.exceptions import ClientError\n",
    "try:\n",
    "    sagemaker_client = boto3.client(\"sagemaker\")\n",
    "    sagemaker_client.delete_endpoint(EndpointName=endpoint_name)\n",
    "    sagemaker_client.delete_endpoint_config(EndpointConfigName=endpoint_name)\n",
    "except ClientError as ce:\n",
    "    print(ce)\n"
   ]
  }
 ],
 "metadata": {
  "kernelspec": {
   "display_name": "Python 3",
   "language": "python",
   "name": "python3"
  },
  "language_info": {
   "codemirror_mode": {
    "name": "ipython",
    "version": 3
   },
   "file_extension": ".py",
   "mimetype": "text/x-python",
   "name": "python",
   "nbconvert_exporter": "python",
   "pygments_lexer": "ipython3",
   "version": "3.11.4"
  },
  "notice": "Copyright 2018 Amazon.com, Inc. or its affiliates. All Rights Reserved.  Licensed under the Apache License, Version 2.0 (the \"License\"). You may not use this file except in compliance with the License. A copy of the License is located at http://aws.amazon.com/apache2.0/ or in the \"license\" file accompanying this file. This file is distributed on an \"AS IS\" BASIS, WITHOUT WARRANTIES OR CONDITIONS OF ANY KIND, either express or implied. See the License for the specific language governing permissions and limitations under the License."
 },
 "nbformat": 4,
 "nbformat_minor": 4
}
