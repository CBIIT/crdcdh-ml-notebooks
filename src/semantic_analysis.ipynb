{
 "cells": [
  {
   "cell_type": "markdown",
   "metadata": {},
   "source": [
    "# CRDCDH Semantic Mapping with BlazingText\n"
   ]
  },
  {
   "cell_type": "markdown",
   "metadata": {},
   "source": [
    "\n",
    "The Amazon SageMaker BlazingText algorithm provides highly optimized implementations of the Word2vec and text classification algorithms. The Word2vec algorithm is useful for many downstream natural language processing (NLP) tasks, such as sentiment analysis, named entity recognition, machine translation, etc. Text classification is an important task for applications that perform web searches, information retrieval, ranking, and document classification.  Moreover, it supports Out-of-vocabulary (OOV) to predict words that are not in training dataset with much higher performance than FastText."
   ]
  },
  {
   "cell_type": "markdown",
   "metadata": {},
   "source": [
    "## Setup\n",
    "\n",
    "Let's start by setting SageMaker environment:\n",
    "- For the first time to run the notebook, make sure sageMaker environment configuration file, sagemaker_config.py, exists in src/common directory.  If not, create it by copy sagemaker_config_sample.py file under src/common dir and rename the copy to sagemaker_config.py\n",
    "- Open the sagemaker_config.py under src/common dir, review all environment settings and update them if necessary. "
   ]
  },
  {
   "cell_type": "code",
   "execution_count": 1,
   "metadata": {
    "isConfigCell": true
   },
   "outputs": [
    {
     "name": "stdout",
     "output_type": "stream",
     "text": [
      "sagemaker.config INFO - Not applying SDK defaults from location: /opt/homebrew/share/sagemaker/config.yaml\n",
      "sagemaker.config INFO - Not applying SDK defaults from location: /Users/gup2/Library/Application Support/sagemaker/config.yaml\n",
      "src dir:/Users/gup2/workspace/vscode/crdcdh/crdcdh-ml-notebooks/src\n",
      "root dir:/Users/gup2/workspace/vscode/crdcdh/crdcdh-ml-notebooks\n",
      "sagemaker.config INFO - Fetched defaults config from location: /Users/gup2/workspace/vscode/crdcdh/crdcdh-ml-notebooks/configs/sagemaker/config.yaml\n"
     ]
    }
   ],
   "source": [
    "from semantic_analysis_class import SemanticAnalysis\n",
    "import common.sagemaker_config as config\n",
    "\n",
    "# instantiate a class object from SemanticAnalysis and set SageMaker environment\n",
    "semantic_analysis = SemanticAnalysis()\n"
   ]
  },
  {
   "cell_type": "markdown",
   "metadata": {},
   "source": [
    "## Training and/or Test Model Setup\n",
    "First of all, set the container by calling:\n",
    "    semantic_analysis.set_container(container_name, container_version)\n"
   ]
  },
  {
   "cell_type": "code",
   "execution_count": 2,
   "metadata": {},
   "outputs": [
    {
     "name": "stderr",
     "output_type": "stream",
     "text": [
      "The method get_image_uri has been renamed in sagemaker>=2.\n",
      "See: https://sagemaker.readthedocs.io/en/stable/v2.html for details.\n",
      "Defaulting to the only supported framework/algorithm version: 1. Ignoring framework/algorithm version: latest.\n"
     ]
    },
    {
     "name": "stdout",
     "output_type": "stream",
     "text": [
      "Using SageMaker BlazingText container: 811284229777.dkr.ecr.us-east-1.amazonaws.com/blazingtext:1 (us-east-1)\n"
     ]
    }
   ],
   "source": [
    "CONTAINER_IMAGE_NAME = \"blazingtext\"\n",
    "CONTAINER_IMAGE_VERSION = \"latest\"\n",
    "semantic_analysis.set_container(CONTAINER_IMAGE_NAME, CONTAINER_IMAGE_VERSION)"
   ]
  },
  {
   "cell_type": "markdown",
   "metadata": {},
   "source": [
    "Second, decide train and/or test model workflow by setting switches:\n",
    "\n",
    "By setting TEST_MODEL_ONLY to false, we decide to train model and test model.  Otherwise, only test trained model, that skips training step, a very costly step.\n",
    "    1) TEST_MODEL_ONLY = False  \n",
    "   \n",
    "By setting TRANSFORM_DATA to false, we decide to use existing training data in text8 format.  Otherwise, need call transformData function to convert json files to a text8 file .\n",
    "    2) TRANSFORM_DATA = False \n"
   ]
  },
  {
   "cell_type": "code",
   "execution_count": 3,
   "metadata": {},
   "outputs": [],
   "source": [
    "#setting switches to determine workflow\n",
    "TEST_MODEL_ONLY = False \n",
    "TRANSFORM_DATA = True \n",
    "UPDATE_ENDPOINT = False\n",
    "\n",
    "trained_model_s3_path = \"\"\n",
    "\n",
    "if TEST_MODEL_ONLY == True:\n",
    "    #must set trained model s3 path here\n",
    "    trained_model_s3_path = \"train_output/blazingtext-2024-06-26-20-12-41-805/output/model.tar.gz\""
   ]
  },
  {
   "cell_type": "markdown",
   "metadata": {},
   "source": [
    "For train model, need to prepare training data, if only have datasets in json files, need call transform function to create a one training file in text8 format"
   ]
  },
  {
   "cell_type": "code",
   "execution_count": 5,
   "metadata": {},
   "outputs": [
    {
     "name": "stderr",
     "output_type": "stream",
     "text": [
      "The class sagemaker.session.s3_input has been renamed in sagemaker>=2.\n",
      "See: https://sagemaker.readthedocs.io/en/stable/v2.html for details.\n"
     ]
    },
    {
     "name": "stdout",
     "output_type": "stream",
     "text": [
      "Failed to transform data in transformer: An error occurred (AccessDenied) when calling the ListObjectsV2 operation: Access Denied\n",
      "Failed to transform data, please contact admin, Failed to transform data!\n",
      "Exited!\n",
      "Training data path: \n",
      "No training data found on s3 bucket or local folder\n",
      "Exited!\n"
     ]
    }
   ],
   "source": [
    "trining_data_s3_path = \"\" \n",
    "trining_data_local_path = \"\"\n",
    "if TEST_MODEL_ONLY == False:\n",
    "    if TRANSFORM_DATA == True:\n",
    "        # if need to transform data, must set the raw data folder that contain json file(s) either in s3 bucket of in local folder\n",
    "        # contact admin if you don't have it.\n",
    "        s3_raw_data_prefix = \"data/raw/json/blazingtext-2024-06-13-16-15/\" \n",
    "        trining_data_s3_path = semantic_analysis.transformData(s3_raw_data_prefix)\n",
    "    else:\n",
    "        # if not need to transform data, must set the training data file path in s3 bucket, contact admin if you don't have it.\n",
    "        trining_data_s3_path = \"data/train/blazingtext-2024-06-26-16-12-34-276/train_data_text8\"\n",
    "        # or local path to the training dataset.\n",
    "        trining_data_local_path = \"../data/train/text8/all.txt\"\n",
    "    path = trining_data_s3_path if trining_data_s3_path else trining_data_local_path\n",
    "    print(f\"Training data path: {path}\")\n",
    "    #call prepare_train_data function\n",
    "    semantic_analysis.prepare_train_data(trining_data_s3_path, trining_data_local_path)"
   ]
  },
  {
   "cell_type": "markdown",
   "metadata": {},
   "source": []
  },
  {
   "cell_type": "markdown",
   "metadata": {},
   "source": [
    "## Training the BlazingText model for generating word vectors"
   ]
  },
  {
   "cell_type": "markdown",
   "metadata": {},
   "source": [
    "Now let's train the model."
   ]
  },
  {
   "cell_type": "code",
   "execution_count": null,
   "metadata": {},
   "outputs": [],
   "source": [
    "if TEST_MODEL_ONLY == False:\n",
    "    # Train the model\n",
    "    #set training algorithm\n",
    "    algorithm = \"FastText\"  #values: \"FastText\", \"Word2Vec, TextClassification\"\n",
    "    semantic_analysis.train(algorithm)"
   ]
  },
  {
   "cell_type": "markdown",
   "metadata": {},
   "source": [
    "### Evaluation"
   ]
  },
  {
   "cell_type": "markdown",
   "metadata": {},
   "source": [
    "Let us now download the word vectors learned by our model and visualize them using a [t-SNE](https://en.wikipedia.org/wiki/T-distributed_stochastic_neighbor_embedding) plot."
   ]
  },
  {
   "cell_type": "code",
   "execution_count": null,
   "metadata": {},
   "outputs": [],
   "source": [
    "if TEST_MODEL_ONLY == False:\n",
    "    downloaded_model_path = \"../output/model.tar.gz\"\n",
    "    semantic_analysis.download_trained_model(downloaded_model_path) # download trained model to local\n",
    "    semantic_analysis.evaluate_learned_model_vacs(downloaded_model_path, \"../output/model\") # evaluate learned vectors in trained model"
   ]
  },
  {
   "cell_type": "markdown",
   "metadata": {},
   "source": [
    "As expected, we get an n-dimensional vector (where n is vector_dim as specified in hyperparameters) for each of the words. If the word is not there in the training dataset, the model will return a vector of zeros."
   ]
  },
  {
   "cell_type": "markdown",
   "metadata": {},
   "source": [
    "Running the code above might generate a plot like the one below. t-SNE and Word2Vec are stochastic, so although when you run the code the plot won’t look exactly like this, you can still see clusters of similar words such as below where 'british', 'american', 'french', 'english' are near the bottom-left, and 'military', 'army' and 'forces' are all together near the bottom."
   ]
  },
  {
   "cell_type": "markdown",
   "metadata": {},
   "source": [
    "![tsne plot of embeddings](../images/tsne.png)"
   ]
  },
  {
   "cell_type": "markdown",
   "metadata": {},
   "source": [
    "## Hosting / Inference\n",
    "Once the training is done, we can deploy the trained model as an Amazon SageMaker real-time hosted endpoint. This will allow us to make predictions (or inference) from the model. Note that we don't have to host on the same type of instance that we used to train. Because instance endpoints will be up and running for long, it's advisable to choose a cheaper instance for inference."
   ]
  },
  {
   "cell_type": "code",
   "execution_count": null,
   "metadata": {},
   "outputs": [],
   "source": [
    "endpoint_name = config.ENDPOINT_NAME #default endpoint name, crdcdh-ml-dev-endpoint in dev. The name can be customized by valid unique name.\n",
    "if UPDATE_ENDPOINT:\n",
    "    semantic_analysis.deploy_trained_model(endpoint_name, trained_model_s3_path)"
   ]
  },
  {
   "cell_type": "markdown",
   "metadata": {},
   "source": [
    "### Check the accuracy of predictions with test dataset"
   ]
  },
  {
   "cell_type": "markdown",
   "metadata": {},
   "source": [
    "#### Use YAML format for inference\n",
    "Extract permissive and non-permissive value pairs then calculate mean similarity by compare word embeddings (vectors) of values paris."
   ]
  },
  {
   "cell_type": "code",
   "execution_count": null,
   "metadata": {},
   "outputs": [],
   "source": [
    "EVALUATE_MODEL = False\n",
    "if EVALUATE_MODEL:\n",
    "    yaml_test_data_path = \"../data/test/cds_clean_dict_v1.3.yaml\" # set the local yaml file path \n",
    "    semantic_analysis.evaluate_trained_model(endpoint_name, yaml_test_data_path)"
   ]
  },
  {
   "cell_type": "markdown",
   "metadata": {},
   "source": [
    "### Getting vector representations for two words and get similarity score"
   ]
  },
  {
   "cell_type": "code",
   "execution_count": null,
   "metadata": {},
   "outputs": [],
   "source": [
    "words = [\"male\", \"female\"]   \n",
    "semantic_analysis.test_trained_model(words, endpoint_name)"
   ]
  },
  {
   "cell_type": "markdown",
   "metadata": {},
   "source": [
    "## Search similar words by a given word"
   ]
  },
  {
   "cell_type": "code",
   "execution_count": null,
   "metadata": {},
   "outputs": [],
   "source": [
    "word = \"tumor\"\n",
    "# semantic_analysis.search_similar_words(word, endpoint_name, 10)"
   ]
  },
  {
   "cell_type": "markdown",
   "metadata": {},
   "source": [
    "## Search similar words by a given permissive values"
   ]
  },
  {
   "cell_type": "code",
   "execution_count": null,
   "metadata": {},
   "outputs": [],
   "source": [
    "word = \"manual\"\n",
    "permissive_values = [\"Manual\",\"Semiautomatic\",\"Automatic\",\"Not applicable\"]\n",
    "semantic_analysis.search_from_permissive_values(word, permissive_values, endpoint_name, 2)"
   ]
  },
  {
   "cell_type": "markdown",
   "metadata": {},
   "source": [
    "### Stop / Close the Endpoint (Optional)\n",
    "Finally, for training and test purpose, we need delete the endpoint before we close the notebook.  If you want to host the model in the endpoint for a while, just remove the endpoint_name parameter from the close() as listed below:\n",
    "\n",
    "semantic_analysis.close()"
   ]
  },
  {
   "cell_type": "code",
   "execution_count": null,
   "metadata": {},
   "outputs": [],
   "source": [
    "CONTINUE = False\n",
    "if not CONTINUE:\n",
    "    # # Delete the SageMaker endpoint and resources\n",
    "    semantic_analysis.close(0, endpoint_name)\n",
    "    # semantic_analysis.close(0)\n",
    "    semantic_analysis = None\n",
    "    s3_bucket = None"
   ]
  }
 ],
 "metadata": {
  "kernelspec": {
   "display_name": "Python 3 (ipykernel)",
   "language": "python",
   "name": "python3"
  },
  "language_info": {
   "codemirror_mode": {
    "name": "ipython",
    "version": 3
   },
   "file_extension": ".py",
   "mimetype": "text/x-python",
   "name": "python",
   "nbconvert_exporter": "python",
   "pygments_lexer": "ipython3",
   "version": "3.11.4"
  },
  "notice": "Copyright 2018 Amazon.com, Inc. or its affiliates. All Rights Reserved.  Licensed under the Apache License, Version 2.0 (the \"License\"). You may not use this file except in compliance with the License. A copy of the License is located at http://aws.amazon.com/apache2.0/ or in the \"license\" file accompanying this file. This file is distributed on an \"AS IS\" BASIS, WITHOUT WARRANTIES OR CONDITIONS OF ANY KIND, either express or implied. See the License for the specific language governing permissions and limitations under the License."
 },
 "nbformat": 4,
 "nbformat_minor": 4
}
